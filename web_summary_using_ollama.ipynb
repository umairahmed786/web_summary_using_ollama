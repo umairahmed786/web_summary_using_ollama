{
 "cells": [
  {
   "cell_type": "markdown",
   "id": "5ee1ac06-6927-4cb1-98b7-df616b9954d1",
   "metadata": {},
   "source": [
    "## WEB Summary Using Ollama\n",
    "Summarizing a webpage to use an Open Source model running locally via Ollama rather than OpenAI\n",
    "\n",
    "**Benefits:**\n",
    "1. No API charges - open-source\n",
    "2. Data doesn't leave your box\n",
    "\n",
    "**Disadvantages:**\n",
    "1. Significantly less power than Frontier Model\n",
    "\n",
    "## Installation of Ollama\n",
    "\n",
    "Simply visit [ollama.com](https://ollama.com) and install!\n",
    "\n",
    "Once complete, the ollama server should already be running locally.  \n",
    "If you visit:  \n",
    "[http://localhost:11434/](http://localhost:11434/)\n",
    "\n",
    "You should see the message `Ollama is running`.  \n",
    "\n",
    "If not, bring up a new Terminal (Mac) or Powershell (Windows) and enter `ollama serve`  \n",
    "And in another Terminal (Mac) or Powershell (Windows), enter `ollama pull llama3.2`  \n",
    "Then try [http://localhost:11434/](http://localhost:11434/) again.\n",
    "\n",
    "If Ollama is slow on your machine, try using `llama3.2:1b` as an alternative. Run `ollama pull llama3.2:1b` from a Terminal or Powershell, and change the code below from `MODEL = \"llama3.2\"` to `MODEL = \"llama3.2:1b\"`\n"
   ]
  },
  {
   "cell_type": "code",
   "execution_count": 2,
   "id": "031147bc-e0fb-4911-9500-0b60b5cafd88",
   "metadata": {},
   "outputs": [],
   "source": [
    "import os\n",
    "import requests\n",
    "from dotenv import load_dotenv\n",
    "from bs4 import BeautifulSoup\n",
    "from IPython.display import Markdown, display\n",
    "from openai import OpenAI"
   ]
  },
  {
   "cell_type": "code",
   "execution_count": 13,
   "id": "c469b460-30c9-451d-855c-dc5f6a3b8cb6",
   "metadata": {},
   "outputs": [],
   "source": [
    "headers = {\n",
    " \"User-Agent\": \"Mozilla/5.0 (Windows NT 10.0; Win64; x64) AppleWebKit/537.36 (KHTML, like Gecko) Chrome/117.0.0.0 Safari/537.36\"\n",
    "}\n",
    "class Website:\n",
    "\n",
    "    def __init__(self, url):\n",
    "        \"\"\"\n",
    "        Create this Website object from the given url using the BeautifulSoup library\n",
    "        \"\"\"\n",
    "        self.url = url\n",
    "        response = requests.get(url, headers=headers)\n",
    "        soup = BeautifulSoup(response.content, 'html.parser')\n",
    "        self.title = soup.title.string if soup.title else \"No title found\"\n",
    "        for irrelevant in soup.body([\"script\", \"style\", \"img\", \"input\"]):\n",
    "            irrelevant.decompose()\n",
    "        self.text = soup.body.get_text(separator=\"\\n\", strip=True)"
   ]
  },
  {
   "cell_type": "markdown",
   "id": "1d7dca25-89b6-4e3a-8c65-653caace2828",
   "metadata": {},
   "source": [
    "## Types of prompts\n",
    "\n",
    "Models have been trained to receive instructions in a particular way.\n",
    "\n",
    "They expect to receive:\n",
    "\n",
    "**A system prompt** that tells them what task they are performing and what tone they should use\n",
    "\n",
    "**A user prompt** -- the conversation starter that they should reply to"
   ]
  },
  {
   "cell_type": "code",
   "execution_count": 4,
   "id": "b5976ba5-2ca8-481e-928a-a4de1c45c16b",
   "metadata": {},
   "outputs": [],
   "source": [
    "system_prompt = \"You are an assistant that analyzes the contents of a website \\\n",
    "and provides a short summary, ignoring text that might be navigation related. \\\n",
    "Respond in markdown.\""
   ]
  },
  {
   "cell_type": "code",
   "execution_count": 5,
   "id": "cfe02330-8dbe-4da0-86be-b4299b083f6e",
   "metadata": {},
   "outputs": [],
   "source": [
    "def user_prompt_for(website):\n",
    "    user_prompt = f\"You are looking at a website titled {website.title}\"\n",
    "    user_prompt += \"\\nThe contents of this website is as follows; \\\n",
    "please provide a short summary of this website in markdown. \\\n",
    "If it includes news or announcements, then summarize these too.\\n\\n\"\n",
    "    user_prompt += website.text\n",
    "    return user_prompt"
   ]
  },
  {
   "cell_type": "markdown",
   "id": "276c25a0-022a-402c-99f8-bd8c2bb2e5f2",
   "metadata": {},
   "source": [
    "## Messages\n",
    "\n",
    "The LLMs expects to receive messages in a particular structure.\n",
    "Many of the other APIs share this structure:\n",
    "\n",
    "```python\n",
    "[\n",
    "    {\"role\": \"system\", \"content\": \"system message goes here\"},\n",
    "    {\"role\": \"user\", \"content\": \"user message goes here\"}\n",
    "]\n",
    "```"
   ]
  },
  {
   "cell_type": "code",
   "execution_count": 7,
   "id": "da7b9c15-25e3-4168-8a85-689207fa9ad7",
   "metadata": {},
   "outputs": [],
   "source": [
    "def messages_for(website):\n",
    "    return [\n",
    "        {\"role\": \"system\", \"content\": system_prompt},\n",
    "        {\"role\": \"user\", \"content\": user_prompt_for(website)}\n",
    "    ]"
   ]
  },
  {
   "cell_type": "code",
   "execution_count": 8,
   "id": "858c6910-1059-49cf-acb0-03a260918bb0",
   "metadata": {},
   "outputs": [],
   "source": [
    "OLLAMA_API = \"http://localhost:11434/api/chat\"\n",
    "HEADERS = {\"Content-Type\": \"application/json\"}\n",
    "MODEL = \"llama3.2\""
   ]
  },
  {
   "cell_type": "code",
   "execution_count": 9,
   "id": "f6bc80b1-0f89-4c65-86a0-163635b23703",
   "metadata": {},
   "outputs": [],
   "source": [
    "ollama_via_openai = OpenAI(base_url='http://localhost:11434/v1', api_key='ollama')"
   ]
  },
  {
   "cell_type": "code",
   "execution_count": 10,
   "id": "7feac60b-41ee-4905-87cd-a977d51ab015",
   "metadata": {},
   "outputs": [],
   "source": [
    "def summarize(url):\n",
    "    website = Website(url)\n",
    "    response = ollama_via_openai.chat.completions.create(\n",
    "        model = MODEL,\n",
    "        messages = messages_for(website)\n",
    "    )\n",
    "    return response.choices[0].message.content"
   ]
  },
  {
   "cell_type": "code",
   "execution_count": 11,
   "id": "4003582e-8d1c-4fa9-abdd-892155198624",
   "metadata": {},
   "outputs": [],
   "source": [
    "def display_summary(url):\n",
    "    summary = summarize(url)\n",
    "    display(Markdown(summary))"
   ]
  },
  {
   "cell_type": "code",
   "execution_count": 14,
   "id": "ae0f2432-d47c-48da-ba6a-8bf7b11124c4",
   "metadata": {},
   "outputs": [
    {
     "data": {
      "text/markdown": [
       "# **Breaking News and Latest Updates**\n",
       "The website covers various breaking news stories, including:\n",
       "\n",
       "*   Trump's Middle East trip: The president was greeted with mounted camels and red Cybertrucks in Doha.\n",
       "*   Ukraine-Russia War: Analysis of the ongoing conflict and its impact on international relations.\n",
       "*   India-Pakistan ceasefire: Both countries agreed to a temporary truce.\n",
       "\n",
       "# **Global News**\n",
       "The latest global news includes:\n",
       "\n",
       "*   China's EV makers racing for global dominance\n",
       "*   Syrian jihadist-turned-president meeting with Trump: The president announced plans to lift punishing sanctions on Syria.\n",
       "*   Trump receives lavish welcome in Qatar: The president was greeted with luxury jets and other lavish festivities.\n",
       "\n",
       "# **Technology and Science**\n",
       "The website features the latest news and developments in:\n",
       "\n",
       "*   Apple's potential iPhone price increase\n",
       "*   Google's solution for 'unpaid toll' text scams]\n",
       "*   Microsoft's 7,000 employee layoffs\n",
       "\n",
       "# **Entertainment and Sports**\n",
       "Up-to-date information on:\n",
       "\n",
       "*   Disney announcing a new theme park in Abu Dhabi\n",
       "*   Beyoncé's childhood nickname and its impact on her parenting style"
      ],
      "text/plain": [
       "<IPython.core.display.Markdown object>"
      ]
     },
     "metadata": {},
     "output_type": "display_data"
    }
   ],
   "source": [
    "display_summary(\"https://cnn.com\")"
   ]
  }
 ],
 "metadata": {
  "kernelspec": {
   "display_name": "Python 3 (ipykernel)",
   "language": "python",
   "name": "python3"
  },
  "language_info": {
   "codemirror_mode": {
    "name": "ipython",
    "version": 3
   },
   "file_extension": ".py",
   "mimetype": "text/x-python",
   "name": "python",
   "nbconvert_exporter": "python",
   "pygments_lexer": "ipython3",
   "version": "3.11.12"
  }
 },
 "nbformat": 4,
 "nbformat_minor": 5
}
